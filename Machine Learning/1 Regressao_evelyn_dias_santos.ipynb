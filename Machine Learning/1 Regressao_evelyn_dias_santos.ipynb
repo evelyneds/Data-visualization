{
  "cells": [
    {
      "cell_type": "markdown",
      "source": [
        "Estudando um pouco sobre Machine Learning, você aprendeu que utilizar dados históricos para realizar previsões pode ser interessante, quando se quer agregar valor em pesquisas ou nos negócios de uma empresa.\n",
        "\n",
        "Os modelos de regressão em Machine Learning são, amplamente, utilizados para realizar essas previsões. Então, para que você possa exercitar seus conhecimentos nessa área, execute como utilizar a biblioteca scikit-learn para construir um modelo de previsão de preço de carros, usando regressão linear múltipla.\n",
        "\n",
        "Para isso, use também um conjunto de dados com várias informações sobre carros usados em outro arquivo, que você pode baixar, acessando o link “car_data.csv”.\n",
        "\n",
        "Execute os comandos do notebook e gere um modelo de previsão de preços com base nesses dados."
      ],
      "metadata": {
        "id": "6ifPT1Ro7nmc"
      }
    },
    {
      "cell_type": "markdown",
      "metadata": {
        "id": "qTkklw2B7j0W"
      },
      "source": [
        "### Regressão Linear Múltipla"
      ]
    },
    {
      "cell_type": "markdown",
      "metadata": {
        "id": "wT6jyyyS7j0Z"
      },
      "source": [
        "Neste notebook aprenderemos como utilizar a biblioteca scikit-learn para construirmos um modelo de previsão de preço, usando regressão linear múltipla. Para isso utilizaremos um conjunto de dados de carros usados listados pelo site www.cardekho.com e disponível em: https://www.kaggle.com/nehalbirla/vehicle-dataset-from-cardekho e adaptado neste notebook."
      ]
    },
    {
      "cell_type": "markdown",
      "metadata": {
        "id": "ub6uWf5V7j0a"
      },
      "source": [
        "As informações contidas no dataset são:\n",
        "\n",
        "**nome_carro:**        nome do carro\n",
        "\n",
        "**ano:**               ano de fabricação\n",
        "\n",
        "**preco_venda:**       preço que o dono quer vender\n",
        "\n",
        "**preco_atual:**       preço da concessionária\n",
        "\n",
        "**kms_rodados:**       kilometragem do carro \n",
        "\n",
        "**tipo_combustivel:**  tipo de combustível do carro (Diesel, Gasolina, GasNatural)\n",
        "\n",
        "**tipo_vendedor:**     se o vendedor é um revendedor ou é a própria pessoa\n",
        "\n",
        "**tipo_transmissao:**  tipo de câmbio do carro\n",
        "\n",
        "**n_donos:**           número de donos que o carro já teve"
      ]
    },
    {
      "cell_type": "markdown",
      "metadata": {
        "id": "BBWlwF_q7j0b"
      },
      "source": [
        "### Importando bibliotecas necessárias"
      ]
    },
    {
      "cell_type": "code",
      "execution_count": 40,
      "metadata": {
        "id": "qhXf_xzt7j0b"
      },
      "outputs": [],
      "source": [
        "import pandas as pd\n",
        "import numpy as np\n",
        "import matplotlib.pyplot as plt\n",
        "%matplotlib inline"
      ]
    },
    {
      "cell_type": "markdown",
      "metadata": {
        "id": "qGj0aQD-7j0c"
      },
      "source": [
        "### Carregando os dados"
      ]
    },
    {
      "cell_type": "code",
      "execution_count": 41,
      "metadata": {
        "scrolled": true,
        "colab": {
          "base_uri": "https://localhost:8080/",
          "height": 206
        },
        "id": "JTl9mZ9F7j0d",
        "outputId": "b286e3f3-a161-4370-97a3-70c13c2e45fd"
      },
      "outputs": [
        {
          "output_type": "execute_result",
          "data": {
            "text/html": [
              "\n",
              "  <div id=\"df-838ad594-67e0-4896-a7e1-b99c26f5a6ea\">\n",
              "    <div class=\"colab-df-container\">\n",
              "      <div>\n",
              "<style scoped>\n",
              "    .dataframe tbody tr th:only-of-type {\n",
              "        vertical-align: middle;\n",
              "    }\n",
              "\n",
              "    .dataframe tbody tr th {\n",
              "        vertical-align: top;\n",
              "    }\n",
              "\n",
              "    .dataframe thead th {\n",
              "        text-align: right;\n",
              "    }\n",
              "</style>\n",
              "<table border=\"1\" class=\"dataframe\">\n",
              "  <thead>\n",
              "    <tr style=\"text-align: right;\">\n",
              "      <th></th>\n",
              "      <th>nome_carro</th>\n",
              "      <th>ano</th>\n",
              "      <th>preco_venda</th>\n",
              "      <th>preco_atual</th>\n",
              "      <th>kms_rodados</th>\n",
              "      <th>tipo_combustivel</th>\n",
              "      <th>tipo_vendedor</th>\n",
              "      <th>tipo_transmissao</th>\n",
              "      <th>n_donos</th>\n",
              "    </tr>\n",
              "  </thead>\n",
              "  <tbody>\n",
              "    <tr>\n",
              "      <th>0</th>\n",
              "      <td>ritz</td>\n",
              "      <td>2014</td>\n",
              "      <td>3.35</td>\n",
              "      <td>5.59</td>\n",
              "      <td>27000</td>\n",
              "      <td>Gasolina</td>\n",
              "      <td>Revendedor</td>\n",
              "      <td>Manual</td>\n",
              "      <td>0</td>\n",
              "    </tr>\n",
              "    <tr>\n",
              "      <th>1</th>\n",
              "      <td>sx4</td>\n",
              "      <td>2013</td>\n",
              "      <td>4.75</td>\n",
              "      <td>9.54</td>\n",
              "      <td>43000</td>\n",
              "      <td>Diesel</td>\n",
              "      <td>Revendedor</td>\n",
              "      <td>Manual</td>\n",
              "      <td>0</td>\n",
              "    </tr>\n",
              "    <tr>\n",
              "      <th>2</th>\n",
              "      <td>ciaz</td>\n",
              "      <td>2017</td>\n",
              "      <td>7.25</td>\n",
              "      <td>9.85</td>\n",
              "      <td>6900</td>\n",
              "      <td>Gasolina</td>\n",
              "      <td>Revendedor</td>\n",
              "      <td>Manual</td>\n",
              "      <td>0</td>\n",
              "    </tr>\n",
              "    <tr>\n",
              "      <th>3</th>\n",
              "      <td>wagon r</td>\n",
              "      <td>2011</td>\n",
              "      <td>2.85</td>\n",
              "      <td>4.15</td>\n",
              "      <td>5200</td>\n",
              "      <td>Gasolina</td>\n",
              "      <td>Revendedor</td>\n",
              "      <td>Manual</td>\n",
              "      <td>0</td>\n",
              "    </tr>\n",
              "    <tr>\n",
              "      <th>4</th>\n",
              "      <td>swift</td>\n",
              "      <td>2014</td>\n",
              "      <td>4.60</td>\n",
              "      <td>6.87</td>\n",
              "      <td>42450</td>\n",
              "      <td>Diesel</td>\n",
              "      <td>Revendedor</td>\n",
              "      <td>Manual</td>\n",
              "      <td>0</td>\n",
              "    </tr>\n",
              "  </tbody>\n",
              "</table>\n",
              "</div>\n",
              "      <button class=\"colab-df-convert\" onclick=\"convertToInteractive('df-838ad594-67e0-4896-a7e1-b99c26f5a6ea')\"\n",
              "              title=\"Convert this dataframe to an interactive table.\"\n",
              "              style=\"display:none;\">\n",
              "        \n",
              "  <svg xmlns=\"http://www.w3.org/2000/svg\" height=\"24px\"viewBox=\"0 0 24 24\"\n",
              "       width=\"24px\">\n",
              "    <path d=\"M0 0h24v24H0V0z\" fill=\"none\"/>\n",
              "    <path d=\"M18.56 5.44l.94 2.06.94-2.06 2.06-.94-2.06-.94-.94-2.06-.94 2.06-2.06.94zm-11 1L8.5 8.5l.94-2.06 2.06-.94-2.06-.94L8.5 2.5l-.94 2.06-2.06.94zm10 10l.94 2.06.94-2.06 2.06-.94-2.06-.94-.94-2.06-.94 2.06-2.06.94z\"/><path d=\"M17.41 7.96l-1.37-1.37c-.4-.4-.92-.59-1.43-.59-.52 0-1.04.2-1.43.59L10.3 9.45l-7.72 7.72c-.78.78-.78 2.05 0 2.83L4 21.41c.39.39.9.59 1.41.59.51 0 1.02-.2 1.41-.59l7.78-7.78 2.81-2.81c.8-.78.8-2.07 0-2.86zM5.41 20L4 18.59l7.72-7.72 1.47 1.35L5.41 20z\"/>\n",
              "  </svg>\n",
              "      </button>\n",
              "      \n",
              "  <style>\n",
              "    .colab-df-container {\n",
              "      display:flex;\n",
              "      flex-wrap:wrap;\n",
              "      gap: 12px;\n",
              "    }\n",
              "\n",
              "    .colab-df-convert {\n",
              "      background-color: #E8F0FE;\n",
              "      border: none;\n",
              "      border-radius: 50%;\n",
              "      cursor: pointer;\n",
              "      display: none;\n",
              "      fill: #1967D2;\n",
              "      height: 32px;\n",
              "      padding: 0 0 0 0;\n",
              "      width: 32px;\n",
              "    }\n",
              "\n",
              "    .colab-df-convert:hover {\n",
              "      background-color: #E2EBFA;\n",
              "      box-shadow: 0px 1px 2px rgba(60, 64, 67, 0.3), 0px 1px 3px 1px rgba(60, 64, 67, 0.15);\n",
              "      fill: #174EA6;\n",
              "    }\n",
              "\n",
              "    [theme=dark] .colab-df-convert {\n",
              "      background-color: #3B4455;\n",
              "      fill: #D2E3FC;\n",
              "    }\n",
              "\n",
              "    [theme=dark] .colab-df-convert:hover {\n",
              "      background-color: #434B5C;\n",
              "      box-shadow: 0px 1px 3px 1px rgba(0, 0, 0, 0.15);\n",
              "      filter: drop-shadow(0px 1px 2px rgba(0, 0, 0, 0.3));\n",
              "      fill: #FFFFFF;\n",
              "    }\n",
              "  </style>\n",
              "\n",
              "      <script>\n",
              "        const buttonEl =\n",
              "          document.querySelector('#df-838ad594-67e0-4896-a7e1-b99c26f5a6ea button.colab-df-convert');\n",
              "        buttonEl.style.display =\n",
              "          google.colab.kernel.accessAllowed ? 'block' : 'none';\n",
              "\n",
              "        async function convertToInteractive(key) {\n",
              "          const element = document.querySelector('#df-838ad594-67e0-4896-a7e1-b99c26f5a6ea');\n",
              "          const dataTable =\n",
              "            await google.colab.kernel.invokeFunction('convertToInteractive',\n",
              "                                                     [key], {});\n",
              "          if (!dataTable) return;\n",
              "\n",
              "          const docLinkHtml = 'Like what you see? Visit the ' +\n",
              "            '<a target=\"_blank\" href=https://colab.research.google.com/notebooks/data_table.ipynb>data table notebook</a>'\n",
              "            + ' to learn more about interactive tables.';\n",
              "          element.innerHTML = '';\n",
              "          dataTable['output_type'] = 'display_data';\n",
              "          await google.colab.output.renderOutput(dataTable, element);\n",
              "          const docLink = document.createElement('div');\n",
              "          docLink.innerHTML = docLinkHtml;\n",
              "          element.appendChild(docLink);\n",
              "        }\n",
              "      </script>\n",
              "    </div>\n",
              "  </div>\n",
              "  "
            ],
            "text/plain": [
              "  nome_carro   ano  preco_venda  ...  tipo_vendedor  tipo_transmissao n_donos\n",
              "0       ritz  2014         3.35  ...     Revendedor            Manual       0\n",
              "1        sx4  2013         4.75  ...     Revendedor            Manual       0\n",
              "2       ciaz  2017         7.25  ...     Revendedor            Manual       0\n",
              "3    wagon r  2011         2.85  ...     Revendedor            Manual       0\n",
              "4      swift  2014         4.60  ...     Revendedor            Manual       0\n",
              "\n",
              "[5 rows x 9 columns]"
            ]
          },
          "metadata": {},
          "execution_count": 41
        }
      ],
      "source": [
        "df = pd.read_csv('https://raw.githubusercontent.com/evelynsantos/Data-visualization/main/car_data.csv')\n",
        "\n",
        "# mostrando as primeiras linhas do arquivo.\n",
        "df.head()"
      ]
    },
    {
      "cell_type": "markdown",
      "metadata": {
        "id": "ZPLLR4K07j0f"
      },
      "source": [
        "Tamanho dos nossos registros"
      ]
    },
    {
      "cell_type": "code",
      "execution_count": 42,
      "metadata": {
        "colab": {
          "base_uri": "https://localhost:8080/"
        },
        "id": "WNqzjXlI7j0g",
        "outputId": "755c96fa-b447-4c1d-ce6d-5b2d3f7514f5"
      },
      "outputs": [
        {
          "output_type": "stream",
          "name": "stdout",
          "text": [
            "(301, 9)\n"
          ]
        }
      ],
      "source": [
        "# o nosso dataset possui 301 registros de carros usados\n",
        "print(df.shape)"
      ]
    },
    {
      "cell_type": "markdown",
      "metadata": {
        "id": "jtFfA1wB7j0h"
      },
      "source": [
        "Para o algoritmo de regressão, vamos substituir os dados que possuem textos por números. "
      ]
    },
    {
      "cell_type": "code",
      "execution_count": 43,
      "metadata": {
        "scrolled": true,
        "colab": {
          "base_uri": "https://localhost:8080/",
          "height": 206
        },
        "id": "GIYCTYNm7j0h",
        "outputId": "3e75c3b5-3777-468a-bb1a-ad5e102eafee"
      },
      "outputs": [
        {
          "output_type": "execute_result",
          "data": {
            "text/html": [
              "\n",
              "  <div id=\"df-916475c8-82a6-4b37-88f0-7813202a7865\">\n",
              "    <div class=\"colab-df-container\">\n",
              "      <div>\n",
              "<style scoped>\n",
              "    .dataframe tbody tr th:only-of-type {\n",
              "        vertical-align: middle;\n",
              "    }\n",
              "\n",
              "    .dataframe tbody tr th {\n",
              "        vertical-align: top;\n",
              "    }\n",
              "\n",
              "    .dataframe thead th {\n",
              "        text-align: right;\n",
              "    }\n",
              "</style>\n",
              "<table border=\"1\" class=\"dataframe\">\n",
              "  <thead>\n",
              "    <tr style=\"text-align: right;\">\n",
              "      <th></th>\n",
              "      <th>nome_carro</th>\n",
              "      <th>ano</th>\n",
              "      <th>preco_venda</th>\n",
              "      <th>preco_atual</th>\n",
              "      <th>kms_rodados</th>\n",
              "      <th>tipo_combustivel</th>\n",
              "      <th>tipo_vendedor</th>\n",
              "      <th>tipo_transmissao</th>\n",
              "      <th>n_donos</th>\n",
              "    </tr>\n",
              "  </thead>\n",
              "  <tbody>\n",
              "    <tr>\n",
              "      <th>0</th>\n",
              "      <td>ritz</td>\n",
              "      <td>2014</td>\n",
              "      <td>3.35</td>\n",
              "      <td>5.59</td>\n",
              "      <td>27000</td>\n",
              "      <td>0</td>\n",
              "      <td>0</td>\n",
              "      <td>0</td>\n",
              "      <td>0</td>\n",
              "    </tr>\n",
              "    <tr>\n",
              "      <th>1</th>\n",
              "      <td>sx4</td>\n",
              "      <td>2013</td>\n",
              "      <td>4.75</td>\n",
              "      <td>9.54</td>\n",
              "      <td>43000</td>\n",
              "      <td>1</td>\n",
              "      <td>0</td>\n",
              "      <td>0</td>\n",
              "      <td>0</td>\n",
              "    </tr>\n",
              "    <tr>\n",
              "      <th>2</th>\n",
              "      <td>ciaz</td>\n",
              "      <td>2017</td>\n",
              "      <td>7.25</td>\n",
              "      <td>9.85</td>\n",
              "      <td>6900</td>\n",
              "      <td>0</td>\n",
              "      <td>0</td>\n",
              "      <td>0</td>\n",
              "      <td>0</td>\n",
              "    </tr>\n",
              "    <tr>\n",
              "      <th>3</th>\n",
              "      <td>wagon r</td>\n",
              "      <td>2011</td>\n",
              "      <td>2.85</td>\n",
              "      <td>4.15</td>\n",
              "      <td>5200</td>\n",
              "      <td>0</td>\n",
              "      <td>0</td>\n",
              "      <td>0</td>\n",
              "      <td>0</td>\n",
              "    </tr>\n",
              "    <tr>\n",
              "      <th>4</th>\n",
              "      <td>swift</td>\n",
              "      <td>2014</td>\n",
              "      <td>4.60</td>\n",
              "      <td>6.87</td>\n",
              "      <td>42450</td>\n",
              "      <td>1</td>\n",
              "      <td>0</td>\n",
              "      <td>0</td>\n",
              "      <td>0</td>\n",
              "    </tr>\n",
              "  </tbody>\n",
              "</table>\n",
              "</div>\n",
              "      <button class=\"colab-df-convert\" onclick=\"convertToInteractive('df-916475c8-82a6-4b37-88f0-7813202a7865')\"\n",
              "              title=\"Convert this dataframe to an interactive table.\"\n",
              "              style=\"display:none;\">\n",
              "        \n",
              "  <svg xmlns=\"http://www.w3.org/2000/svg\" height=\"24px\"viewBox=\"0 0 24 24\"\n",
              "       width=\"24px\">\n",
              "    <path d=\"M0 0h24v24H0V0z\" fill=\"none\"/>\n",
              "    <path d=\"M18.56 5.44l.94 2.06.94-2.06 2.06-.94-2.06-.94-.94-2.06-.94 2.06-2.06.94zm-11 1L8.5 8.5l.94-2.06 2.06-.94-2.06-.94L8.5 2.5l-.94 2.06-2.06.94zm10 10l.94 2.06.94-2.06 2.06-.94-2.06-.94-.94-2.06-.94 2.06-2.06.94z\"/><path d=\"M17.41 7.96l-1.37-1.37c-.4-.4-.92-.59-1.43-.59-.52 0-1.04.2-1.43.59L10.3 9.45l-7.72 7.72c-.78.78-.78 2.05 0 2.83L4 21.41c.39.39.9.59 1.41.59.51 0 1.02-.2 1.41-.59l7.78-7.78 2.81-2.81c.8-.78.8-2.07 0-2.86zM5.41 20L4 18.59l7.72-7.72 1.47 1.35L5.41 20z\"/>\n",
              "  </svg>\n",
              "      </button>\n",
              "      \n",
              "  <style>\n",
              "    .colab-df-container {\n",
              "      display:flex;\n",
              "      flex-wrap:wrap;\n",
              "      gap: 12px;\n",
              "    }\n",
              "\n",
              "    .colab-df-convert {\n",
              "      background-color: #E8F0FE;\n",
              "      border: none;\n",
              "      border-radius: 50%;\n",
              "      cursor: pointer;\n",
              "      display: none;\n",
              "      fill: #1967D2;\n",
              "      height: 32px;\n",
              "      padding: 0 0 0 0;\n",
              "      width: 32px;\n",
              "    }\n",
              "\n",
              "    .colab-df-convert:hover {\n",
              "      background-color: #E2EBFA;\n",
              "      box-shadow: 0px 1px 2px rgba(60, 64, 67, 0.3), 0px 1px 3px 1px rgba(60, 64, 67, 0.15);\n",
              "      fill: #174EA6;\n",
              "    }\n",
              "\n",
              "    [theme=dark] .colab-df-convert {\n",
              "      background-color: #3B4455;\n",
              "      fill: #D2E3FC;\n",
              "    }\n",
              "\n",
              "    [theme=dark] .colab-df-convert:hover {\n",
              "      background-color: #434B5C;\n",
              "      box-shadow: 0px 1px 3px 1px rgba(0, 0, 0, 0.15);\n",
              "      filter: drop-shadow(0px 1px 2px rgba(0, 0, 0, 0.3));\n",
              "      fill: #FFFFFF;\n",
              "    }\n",
              "  </style>\n",
              "\n",
              "      <script>\n",
              "        const buttonEl =\n",
              "          document.querySelector('#df-916475c8-82a6-4b37-88f0-7813202a7865 button.colab-df-convert');\n",
              "        buttonEl.style.display =\n",
              "          google.colab.kernel.accessAllowed ? 'block' : 'none';\n",
              "\n",
              "        async function convertToInteractive(key) {\n",
              "          const element = document.querySelector('#df-916475c8-82a6-4b37-88f0-7813202a7865');\n",
              "          const dataTable =\n",
              "            await google.colab.kernel.invokeFunction('convertToInteractive',\n",
              "                                                     [key], {});\n",
              "          if (!dataTable) return;\n",
              "\n",
              "          const docLinkHtml = 'Like what you see? Visit the ' +\n",
              "            '<a target=\"_blank\" href=https://colab.research.google.com/notebooks/data_table.ipynb>data table notebook</a>'\n",
              "            + ' to learn more about interactive tables.';\n",
              "          element.innerHTML = '';\n",
              "          dataTable['output_type'] = 'display_data';\n",
              "          await google.colab.output.renderOutput(dataTable, element);\n",
              "          const docLink = document.createElement('div');\n",
              "          docLink.innerHTML = docLinkHtml;\n",
              "          element.appendChild(docLink);\n",
              "        }\n",
              "      </script>\n",
              "    </div>\n",
              "  </div>\n",
              "  "
            ],
            "text/plain": [
              "  nome_carro   ano  preco_venda  ...  tipo_vendedor  tipo_transmissao  n_donos\n",
              "0       ritz  2014         3.35  ...              0                 0        0\n",
              "1        sx4  2013         4.75  ...              0                 0        0\n",
              "2       ciaz  2017         7.25  ...              0                 0        0\n",
              "3    wagon r  2011         2.85  ...              0                 0        0\n",
              "4      swift  2014         4.60  ...              0                 0        0\n",
              "\n",
              "[5 rows x 9 columns]"
            ]
          },
          "metadata": {},
          "execution_count": 43
        }
      ],
      "source": [
        "df['tipo_transmissao'].replace({'Manual': 0, 'Automatico': 1}, inplace=True)\n",
        "df['tipo_vendedor'].replace({'Revendedor': 0, 'Individual': 1}, inplace=True)\n",
        "df['tipo_combustivel'].replace({'Gasolina': 0, 'Diesel': 1, 'GasNatural': 2}, inplace=True)\n",
        "df.head()"
      ]
    },
    {
      "cell_type": "markdown",
      "metadata": {
        "id": "OFHCTVHD7j0i"
      },
      "source": [
        "Vamos plotar em um gráfico os anos do carros versus o preço de venda"
      ]
    },
    {
      "cell_type": "code",
      "execution_count": 44,
      "metadata": {
        "colab": {
          "base_uri": "https://localhost:8080/",
          "height": 278
        },
        "id": "NtJ8-DNY7j0i",
        "outputId": "dc003d88-f8ce-44f2-9bd9-8b2256156363"
      },
      "outputs": [
        {
          "output_type": "display_data",
          "data": {
            "image/png": "[encoded data removed]",
            "text/plain": [
              "<Figure size 432x288 with 1 Axes>"
            ]
          },
          "metadata": {
            "needs_background": "light"
          }
        }
      ],
      "source": [
        "plt.scatter(df['ano'], df['preco_venda'],  color='blue')\n",
        "plt.xlabel(\"Ano do Carro\")\n",
        "plt.ylabel(\"Preço de venda [$]\")\n",
        "plt.show()"
      ]
    },
    {
      "cell_type": "markdown",
      "metadata": {
        "id": "9GE0ppxv7j0j"
      },
      "source": [
        "Agora vamos ver qual os anos dos carros que mais rodaram"
      ]
    },
    {
      "cell_type": "code",
      "execution_count": 45,
      "metadata": {
        "scrolled": true,
        "colab": {
          "base_uri": "https://localhost:8080/",
          "height": 278
        },
        "id": "Ia9zjQOo7j0j",
        "outputId": "de580d54-6c11-451c-c8fd-5f77ad1781bc"
      },
      "outputs": [
        {
          "output_type": "display_data",
          "data": {
            "image/png": "[encoded data removed]",
            "text/plain": [
              "<Figure size 432x288 with 1 Axes>"
            ]
          },
          "metadata": {
            "needs_background": "light"
          }
        }
      ],
      "source": [
        "plt.scatter(df['ano'], df['kms_rodados'],  color='red')\n",
        "plt.xlabel(\"Ano do Carro\")\n",
        "plt.ylabel(\"Kms Rodados\")\n",
        "plt.show()"
      ]
    },
    {
      "cell_type": "markdown",
      "metadata": {
        "id": "NIGop10d7j0j"
      },
      "source": [
        "Separando a variável dependente e as variáveis independentes"
      ]
    },
    {
      "cell_type": "code",
      "execution_count": 46,
      "metadata": {
        "id": "90WhkTLo7j0k"
      },
      "outputs": [],
      "source": [
        "# escolhendo as variáveis independentes\n",
        "x = df[['ano', 'preco_atual', 'kms_rodados', 'tipo_combustivel', 'tipo_vendedor', 'tipo_transmissao', 'n_donos']]"
      ]
    },
    {
      "cell_type": "code",
      "execution_count": 47,
      "metadata": {
        "id": "NFTEt9J-7j0k"
      },
      "outputs": [],
      "source": [
        "# variável dependente\n",
        "y = df[['preco_venda']]"
      ]
    },
    {
      "cell_type": "markdown",
      "metadata": {
        "id": "U7tPb4x07j0k"
      },
      "source": [
        "### Separar dados em treino e teste"
      ]
    },
    {
      "cell_type": "markdown",
      "metadata": {
        "id": "9SzuuOmJ7j0k"
      },
      "source": [
        "Para construir nosso modelo de Machine Learning precisamos dividir os dados em duas partes. Uma para treinar o modelo\n",
        "e outra para testar o modelo com dados que ele não conhece. Para isso iremos separar 80% dos dados para treino e 20%\n",
        "dos dados para teste. Para isso usaremos a biblioteca train_test_split que faz essa separação automaticamente."
      ]
    },
    {
      "cell_type": "code",
      "execution_count": 48,
      "metadata": {
        "id": "-5mcyj9n7j0l"
      },
      "outputs": [],
      "source": [
        "from sklearn.model_selection import train_test_split\n",
        "\n",
        "x_train, x_test, y_train, y_test = train_test_split(x, y, test_size=0.2)\n"
      ]
    },
    {
      "cell_type": "markdown",
      "metadata": {
        "id": "hxi5FTZO7j0l"
      },
      "source": [
        "**x_train** é a parte usada para treinar o algoritmo\n",
        "\n",
        "**x_test** é a parte usada para testar o algoritmo depois de treinado\n",
        "\n",
        "**y_train** é a parte das respostas usadas no treino\n",
        "\n",
        "**y_test** é a parte das respostas usadas para testar o algoritmo"
      ]
    },
    {
      "cell_type": "code",
      "execution_count": 49,
      "metadata": {
        "colab": {
          "base_uri": "https://localhost:8080/"
        },
        "id": "IB7w5Bf17j0l",
        "outputId": "cbd2dddd-c58f-4f91-8241-54bbd6ebd962"
      },
      "outputs": [
        {
          "output_type": "stream",
          "name": "stdout",
          "text": [
            "Treino\n",
            "x_train:  (240, 7)\n",
            "y_train:  (240, 1)\n",
            "\n",
            "Teste\n",
            "x_test:  (61, 7)\n",
            "y_test:  (61, 1)\n"
          ]
        }
      ],
      "source": [
        "# Verificando o número de registros que serão usados para o treino e teste\n",
        "print('Treino')\n",
        "print(\"x_train: \",x_train.shape)\n",
        "print(\"y_train: \",y_train.shape)\n",
        "\n",
        "print('\\nTeste')\n",
        "print(\"x_test: \",x_test.shape)\n",
        "print(\"y_test: \",y_test.shape)"
      ]
    },
    {
      "cell_type": "markdown",
      "metadata": {
        "id": "mqFIPFlm7j0m"
      },
      "source": [
        "### Treinando o Modelo"
      ]
    },
    {
      "cell_type": "code",
      "execution_count": 50,
      "metadata": {
        "colab": {
          "base_uri": "https://localhost:8080/"
        },
        "id": "Gkq0AUbz7j0m",
        "outputId": "03edbc68-0975-4934-df7f-24b128b6bb66"
      },
      "outputs": [
        {
          "output_type": "execute_result",
          "data": {
            "text/plain": [
              "LinearRegression()"
            ]
          },
          "metadata": {},
          "execution_count": 50
        }
      ],
      "source": [
        "from sklearn.linear_model import LinearRegression\n",
        "\n",
        "# define um modelo de regressão\n",
        "model = LinearRegression()\n",
        "\n",
        "# treina o modelo com os dados de treino\n",
        "model.fit(x_train, y_train)"
      ]
    },
    {
      "cell_type": "markdown",
      "metadata": {
        "id": "mQMOolT47j0m"
      },
      "source": [
        "### Realiza a previsão dos preços"
      ]
    },
    {
      "cell_type": "code",
      "execution_count": 51,
      "metadata": {
        "id": "KkB3R4VK7j0m"
      },
      "outputs": [],
      "source": [
        "# y_pred contém a previsão dos preços do nosso modelo\n",
        "y_pred = model.predict(x_test)"
      ]
    },
    {
      "cell_type": "code",
      "execution_count": 52,
      "metadata": {
        "colab": {
          "base_uri": "https://localhost:8080/"
        },
        "id": "lfm3qXvG7j0m",
        "outputId": "9e235869-f17b-4319-93fb-10d14b2ed32f"
      },
      "outputs": [
        {
          "output_type": "stream",
          "name": "stdout",
          "text": [
            "(61, 1)\n",
            "(61, 1)\n"
          ]
        }
      ],
      "source": [
        "print(y_pred.shape)\n",
        "print(y_test.shape)"
      ]
    },
    {
      "cell_type": "markdown",
      "metadata": {
        "id": "LmdJBsP-7j0o"
      },
      "source": [
        "Agora vamos plotar o preço dos carros, previsto pelo modelo versus os dados de teste"
      ]
    },
    {
      "cell_type": "code",
      "execution_count": 53,
      "metadata": {
        "colab": {
          "base_uri": "https://localhost:8080/",
          "height": 278
        },
        "id": "BZ24AeCc7j0o",
        "outputId": "7908c0b6-d68c-447a-b2ca-88c9b955f707"
      },
      "outputs": [
        {
          "output_type": "display_data",
          "data": {
            "image/png": "[encoded data removed]",
            "text/plain": [
              "<Figure size 432x288 with 1 Axes>"
            ]
          },
          "metadata": {
            "needs_background": "light"
          }
        }
      ],
      "source": [
        "plt.plot(range(y_pred.shape[0]), y_pred,'r--')\n",
        "plt.plot(range(y_test.shape[0]), y_test,'g--')\n",
        "plt.legend(['preço previsto', 'preço real'])\n",
        "plt.ylabel('Preço')\n",
        "plt.xlabel('Índice')\n",
        "\n",
        "plt.show()"
      ]
    },
    {
      "cell_type": "markdown",
      "metadata": {
        "id": "hAjoYKBo7j0o"
      },
      "source": [
        "É possível observar no gráfico que o modelo, em alguns casos tende a prever preços mais baixos do que o preço real de venda."
      ]
    },
    {
      "cell_type": "markdown",
      "metadata": {
        "id": "J71Yu9L87j0o"
      },
      "source": [
        "Para saber o quanto o nosso modelo está explicando os dados, ou o quanto o modelo pode prever corretamente,\n",
        "iremos utilizar a medida r2, que é o coeficiente de determinação. Para isso iremos utilizar os dados da resposta\n",
        "na etapa de teste e os dados de resposta previstos."
      ]
    },
    {
      "cell_type": "code",
      "execution_count": 54,
      "metadata": {
        "colab": {
          "base_uri": "https://localhost:8080/"
        },
        "id": "xL8gjH2t7j0p",
        "outputId": "c7c19caf-771c-40b3-eb26-7762f830d9e3"
      },
      "outputs": [
        {
          "output_type": "stream",
          "name": "stdout",
          "text": [
            "R2-score:  0.7925062069758035\n",
            "79.25062069758036\n"
          ]
        }
      ],
      "source": [
        "from sklearn.metrics import r2_score\n",
        "\n",
        "print('R2-score: ', r2_score(y_test, y_pred))\n",
        "\n",
        "print(r2_score(y_test, y_pred)*100)"
      ]
    },
    {
      "cell_type": "markdown",
      "metadata": {
        "id": "gyB3TBmm7j0p"
      },
      "source": [
        "Quanto mais próximo de 1, mais o modelo é capaz de prever corretamente.\n",
        "Então do resultado acima, colocando em porcentagem podemos dizer que o nosso modelo\n",
        "prevê corretamente 85% dos preços."
      ]
    },
    {
      "cell_type": "markdown",
      "metadata": {
        "id": "1tOiYGvF7j0p"
      },
      "source": [
        "### Pratique!"
      ]
    },
    {
      "cell_type": "code",
      "execution_count": 55,
      "metadata": {
        "id": "01CM9nJ07j0q"
      },
      "outputs": [],
      "source": [
        "new_x = df[['ano', 'preco_atual', 'kms_rodados', 'tipo_combustivel']]\n",
        "new_y = df[['preco_venda']]"
      ]
    },
    {
      "cell_type": "markdown",
      "metadata": {
        "id": "AXiC7LlD7j0q"
      },
      "source": [
        "Separação dos dados em dados de treino e teste, e então defina um modelo de regressão e realize as previsões.\n",
        "depois use o r2_score para saber a nova porcentagem desse modelo. O resultado é melhor ou pior?"
      ]
    },
    {
      "cell_type": "code",
      "execution_count": 56,
      "metadata": {
        "id": "sfNzStR57j0q"
      },
      "outputs": [],
      "source": [
        "x_train, x_test, y_train, y_test = train_test_split(new_x, new_y, test_size=0.2)"
      ]
    },
    {
      "cell_type": "code",
      "execution_count": 57,
      "metadata": {
        "id": "zJHJBEdc7j0q",
        "colab": {
          "base_uri": "https://localhost:8080/"
        },
        "outputId": "4bbb3aed-53d4-494d-cd07-eb92d96c90fb"
      },
      "outputs": [
        {
          "output_type": "execute_result",
          "data": {
            "text/plain": [
              "LinearRegression()"
            ]
          },
          "metadata": {},
          "execution_count": 57
        }
      ],
      "source": [
        "# define um modelo de regressão\n",
        "model = LinearRegression()\n",
        "\n",
        "# treina o modelo com os dados de treino\n",
        "model.fit(x_train, y_train)"
      ]
    },
    {
      "cell_type": "code",
      "execution_count": 58,
      "metadata": {
        "id": "K-lcTR0P7j0q"
      },
      "outputs": [],
      "source": [
        "# y_pred contém a previsão dos preços do nosso modelo\n",
        "y_pred = model.predict(x_test)"
      ]
    },
    {
      "cell_type": "code",
      "execution_count": 59,
      "metadata": {
        "id": "9ZDBfM0X7j0q",
        "colab": {
          "base_uri": "https://localhost:8080/"
        },
        "outputId": "b64a2cc2-eead-4641-de47-2aa21644b95d"
      },
      "outputs": [
        {
          "output_type": "stream",
          "name": "stdout",
          "text": [
            "(61, 1)\n",
            "(61, 1)\n"
          ]
        }
      ],
      "source": [
        "print(y_pred.shape)\n",
        "print(y_test.shape)"
      ]
    },
    {
      "cell_type": "code",
      "source": [
        "plt.plot(range(y_pred.shape[0]), y_pred,'r--')\n",
        "plt.plot(range(y_test.shape[0]), y_test,'g--')\n",
        "plt.legend(['preço previsto', 'preço real'])\n",
        "plt.ylabel('Preço')\n",
        "plt.xlabel('Índice')\n",
        "\n",
        "plt.show()"
      ],
      "metadata": {
        "colab": {
          "base_uri": "https://localhost:8080/",
          "height": 278
        },
        "id": "5b5S-sLS4cno",
        "outputId": "faf8110a-11b2-4298-e765-f96911de527f"
      },
      "execution_count": 60,
      "outputs": [
        {
          "output_type": "display_data",
          "data": {
            "image/png": "[encoded data removed]",
            "text/plain": [
              "<Figure size 432x288 with 1 Axes>"
            ]
          },
          "metadata": {
            "needs_background": "light"
          }
        }
      ]
    },
    {
      "cell_type": "code",
      "source": [
        "print('R2-score: ', r2_score(y_test, y_pred))\n"
      ],
      "metadata": {
        "colab": {
          "base_uri": "https://localhost:8080/"
        },
        "id": "KrBoqAHt4lk9",
        "outputId": "8da7133f-c1b5-4a2b-8d47-14e784677a8a"
      },
      "execution_count": 61,
      "outputs": [
        {
          "output_type": "stream",
          "name": "stdout",
          "text": [
            "R2-score:  0.7387645048272056\n"
          ]
        }
      ]
    },
    {
      "cell_type": "markdown",
      "source": [
        "Considerando esse novo treinamento, teve uma previsão inferior, tendo 78% de previsão correta."
      ],
      "metadata": {
        "id": "5QvlZ0nG9Dgt"
      }
    }
  ],
  "metadata": {
    "kernelspec": {
      "display_name": "Python 3",
      "language": "python",
      "name": "python3"
    },
    "language_info": {
      "codemirror_mode": {
        "name": "ipython",
        "version": 3
      },
      "file_extension": ".py",
      "mimetype": "text/x-python",
      "name": "python",
      "nbconvert_exporter": "python",
      "pygments_lexer": "ipython3",
      "version": "3.7.6"
    },
    "colab": {
      "name": "Regressao.ipynb",
      "provenance": []
    }
  },
  "nbformat": 4,
  "nbformat_minor": 0
}