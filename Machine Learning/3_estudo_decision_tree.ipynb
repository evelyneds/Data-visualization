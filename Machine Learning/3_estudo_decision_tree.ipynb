{
  "nbformat": 4,
  "nbformat_minor": 0,
  "metadata": {
    "colab": {
      "name": "3 estudo_decision_tree.ipynb",
      "provenance": []
    },
    "kernelspec": {
      "name": "python3",
      "display_name": "Python 3"
    },
    "language_info": {
      "name": "python"
    }
  },
  "cells": [
    {
      "cell_type": "markdown",
      "source": [
        "# Árvores de Decisão\n",
        "\n",
        "Conjunto de regras \"se-então\" utilizadas para regressão e classificação.\n",
        "\n",
        "Este modelo tem como objetivo classificar ou efetuar a regressão baseando-se na construção de regras “se-então”. O ponto chave deste modelo é a aplicação de um cálculo de impureza para cada possível divisão dos dados. Para isso, foi utilizado a técnica de impureza de Gini que consiste em um índice que mensura se uma divisão nos dados de acordo com um valor de atributo foi eficiente em separar as classes. O valor de Gini será cada vez menor quando a divisão dos dados resultar em um menor número de classes obtidas na separação, tendendo a zero quando a divisão resultar em dados de uma única classe. Com isto, é possível perceber que as Árvores de Decisão são capazes de separar os dados de treino perfeitamente, inclusive se tratando de dados não-linearmente separáveis."
      ],
      "metadata": {
        "id": "Xq4unMNZxBiM"
      }
    },
    {
      "cell_type": "markdown",
      "source": [
        "# Como obter a árvore a partir dos dados?\n",
        "Utiliza-se um índice de impureza do resultado de uma divisão\n",
        "Vários índices podem ser utilizados (gini, entropia...)"
      ],
      "metadata": {
        "id": "QLxKlqFhxR-t"
      }
    },
    {
      "cell_type": "code",
      "execution_count": 18,
      "metadata": {
        "id": "09YHPiu4wMd2"
      },
      "outputs": [],
      "source": [
        "from sklearn.tree import DecisionTreeClassifier, DecisionTreeRegressor\n",
        "from sklearn.datasets import load_boston, load_iris\n",
        "from sklearn.model_selection import train_test_split"
      ]
    },
    {
      "cell_type": "markdown",
      "source": [
        "#Decision Tree para classificação"
      ],
      "metadata": {
        "id": "vIx5l_ytzczz"
      }
    },
    {
      "cell_type": "code",
      "source": [
        "dt = DecisionTreeClassifier()"
      ],
      "metadata": {
        "id": "msTGC6bmxCNK"
      },
      "execution_count": 19,
      "outputs": []
    },
    {
      "cell_type": "code",
      "source": [
        "X,y = load_iris(return_X_y=True)\n"
      ],
      "metadata": {
        "id": "Bz0a1pKdxCFp"
      },
      "execution_count": 20,
      "outputs": []
    },
    {
      "cell_type": "code",
      "source": [
        "X_train, X_test, y_train, y_test = train_test_split(X,y)"
      ],
      "metadata": {
        "id": "2V4044IRz8wc"
      },
      "execution_count": 21,
      "outputs": []
    },
    {
      "cell_type": "code",
      "source": [
        "#treinar a árvore\n",
        "dt.fit(X_train,y_train)"
      ],
      "metadata": {
        "colab": {
          "base_uri": "https://localhost:8080/"
        },
        "id": "u-uMnvNMxwBD",
        "outputId": "47f2ab21-1ee0-4645-878e-677361d8460a"
      },
      "execution_count": 22,
      "outputs": [
        {
          "output_type": "execute_result",
          "data": {
            "text/plain": [
              "DecisionTreeClassifier()"
            ]
          },
          "metadata": {},
          "execution_count": 22
        }
      ]
    },
    {
      "cell_type": "code",
      "source": [
        "dt.score(X_test,y_test)"
      ],
      "metadata": {
        "colab": {
          "base_uri": "https://localhost:8080/"
        },
        "id": "UfX2RYpTxv5A",
        "outputId": "bc2f004d-38d0-4f67-b4ef-d4d51b1bb211"
      },
      "execution_count": 23,
      "outputs": [
        {
          "output_type": "execute_result",
          "data": {
            "text/plain": [
              "0.9210526315789473"
            ]
          },
          "metadata": {},
          "execution_count": 23
        }
      ]
    },
    {
      "cell_type": "markdown",
      "source": [
        "#Árvore de decisão para regressão"
      ],
      "metadata": {
        "id": "YrBE1NBL0Mc0"
      }
    },
    {
      "cell_type": "code",
      "source": [
        "dt = DecisionTreeRegressor()"
      ],
      "metadata": {
        "id": "Q8TonSnqxvvU"
      },
      "execution_count": 30,
      "outputs": []
    },
    {
      "cell_type": "code",
      "source": [
        "X,y = load_boston(return_X_y=True)"
      ],
      "metadata": {
        "id": "TzvvFAY-zRPI"
      },
      "execution_count": null,
      "outputs": []
    },
    {
      "cell_type": "code",
      "source": [
        "X_train, X_test, y_train, y_test = train_test_split(X,y)"
      ],
      "metadata": {
        "id": "QVfs9HPKzRL1"
      },
      "execution_count": 35,
      "outputs": []
    },
    {
      "cell_type": "code",
      "source": [
        "dt.fit(X_train,y_train)"
      ],
      "metadata": {
        "id": "k117GNI_zRJx",
        "colab": {
          "base_uri": "https://localhost:8080/"
        },
        "outputId": "80c2e575-3763-43ea-be10-addaf98ac3a5"
      },
      "execution_count": 36,
      "outputs": [
        {
          "output_type": "execute_result",
          "data": {
            "text/plain": [
              "DecisionTreeRegressor()"
            ]
          },
          "metadata": {},
          "execution_count": 36
        }
      ]
    },
    {
      "cell_type": "code",
      "source": [
        "dt.score(X_test,y_test)"
      ],
      "metadata": {
        "id": "_JSU8LsyzRHf",
        "colab": {
          "base_uri": "https://localhost:8080/"
        },
        "outputId": "8185d2fb-c80b-42b1-8115-81b463e7cc99"
      },
      "execution_count": 37,
      "outputs": [
        {
          "output_type": "execute_result",
          "data": {
            "text/plain": [
              "0.7934377537774729"
            ]
          },
          "metadata": {},
          "execution_count": 37
        }
      ]
    },
    {
      "cell_type": "markdown",
      "source": [
        "#Generalizar os dados para evitar overfiting (\"técnica de póda\")\n",
        "\n",
        "Diminuir os dados"
      ],
      "metadata": {
        "id": "GliTTzl8kvT0"
      }
    },
    {
      "cell_type": "code",
      "source": [
        "dt = DecisionTreeClassifier(max_depth=3)"
      ],
      "metadata": {
        "id": "30KdOTq4zREh"
      },
      "execution_count": 46,
      "outputs": []
    },
    {
      "cell_type": "code",
      "source": [
        "X,y = load_iris(return_X_y=True)"
      ],
      "metadata": {
        "id": "gG89naK2zRCG"
      },
      "execution_count": 47,
      "outputs": []
    },
    {
      "cell_type": "code",
      "source": [
        "X_train, X_test, y_train, y_test = train_test_split(X,y)"
      ],
      "metadata": {
        "id": "848XhqvgzQ6S"
      },
      "execution_count": 48,
      "outputs": []
    },
    {
      "cell_type": "code",
      "source": [
        "dt.fit(X_train,y_train)"
      ],
      "metadata": {
        "colab": {
          "base_uri": "https://localhost:8080/"
        },
        "id": "9FIadCLFlGKA",
        "outputId": "c2d0b8e9-dd25-420b-819b-648b9f2fb1be"
      },
      "execution_count": 49,
      "outputs": [
        {
          "output_type": "execute_result",
          "data": {
            "text/plain": [
              "DecisionTreeClassifier(max_depth=3)"
            ]
          },
          "metadata": {},
          "execution_count": 49
        }
      ]
    },
    {
      "cell_type": "code",
      "source": [
        "dt.score(X_test,y_test)"
      ],
      "metadata": {
        "colab": {
          "base_uri": "https://localhost:8080/"
        },
        "id": "BrEvDISdlGF3",
        "outputId": "819b7228-27f7-4086-9f41-316a3580313a"
      },
      "execution_count": 50,
      "outputs": [
        {
          "output_type": "execute_result",
          "data": {
            "text/plain": [
              "0.9736842105263158"
            ]
          },
          "metadata": {},
          "execution_count": 50
        }
      ]
    },
    {
      "cell_type": "markdown",
      "source": [
        "#Selecionando Features para classificação\n",
        "Detecção de cancer de mama"
      ],
      "metadata": {
        "id": "YmQGaPNtlvVq"
      }
    },
    {
      "cell_type": "code",
      "source": [
        "from sklearn.tree import DecisionTreeClassifier\n",
        "from sklearn.datasets import load_breast_cancer"
      ],
      "metadata": {
        "colab": {
          "base_uri": "https://localhost:8080/"
        },
        "id": "v5g4Y5MElGCb",
        "outputId": "58a426a3-7466-493c-af40-f87d02c0415c"
      },
      "execution_count": 51,
      "outputs": [
        {
          "output_type": "execute_result",
          "data": {
            "text/plain": [
              "array([0.        , 0.        , 0.00563858, 0.        , 0.        ,\n",
              "       0.        , 0.00877112, 0.        , 0.        , 0.        ,\n",
              "       0.007316  , 0.        , 0.        , 0.00204521, 0.00100384,\n",
              "       0.        , 0.03184137, 0.        , 0.        , 0.00644409,\n",
              "       0.69559352, 0.09419986, 0.        , 0.0110859 , 0.01440488,\n",
              "       0.        , 0.00766716, 0.10709688, 0.00689159, 0.        ])"
            ]
          },
          "metadata": {},
          "execution_count": 51
        }
      ]
    },
    {
      "cell_type": "code",
      "source": [
        "dt = DecisionTreeClassifier()\n",
        "X,y = load_breast_cancer(return_X_y=True)"
      ],
      "metadata": {
        "id": "kwrJIGWzlF-d"
      },
      "execution_count": 52,
      "outputs": []
    },
    {
      "cell_type": "code",
      "source": [
        "dt.fit(X,y)"
      ],
      "metadata": {
        "colab": {
          "base_uri": "https://localhost:8080/"
        },
        "id": "inGIRrcJlF2I",
        "outputId": "f4768c5c-d764-4164-88ec-079d4c3fd2cf"
      },
      "execution_count": 53,
      "outputs": [
        {
          "output_type": "execute_result",
          "data": {
            "text/plain": [
              "DecisionTreeClassifier()"
            ]
          },
          "metadata": {},
          "execution_count": 53
        }
      ]
    },
    {
      "cell_type": "code",
      "source": [
        "X.shape"
      ],
      "metadata": {
        "colab": {
          "base_uri": "https://localhost:8080/"
        },
        "id": "sq12jdkqmIK_",
        "outputId": "3a674bdb-f4e1-4b47-c9d8-ce63fd6e7ea3"
      },
      "execution_count": 54,
      "outputs": [
        {
          "output_type": "execute_result",
          "data": {
            "text/plain": [
              "(569, 30)"
            ]
          },
          "metadata": {},
          "execution_count": 54
        }
      ]
    },
    {
      "cell_type": "code",
      "source": [
        "dt.feature_importances_"
      ],
      "metadata": {
        "colab": {
          "base_uri": "https://localhost:8080/"
        },
        "id": "jhNwmfGkmICo",
        "outputId": "1eec5683-44fb-4d21-cb21-aad7eddd96f4"
      },
      "execution_count": 55,
      "outputs": [
        {
          "output_type": "execute_result",
          "data": {
            "text/plain": [
              "array([0.        , 0.01691573, 0.        , 0.        , 0.00701689,\n",
              "       0.00583135, 0.        , 0.00877112, 0.        , 0.        ,\n",
              "       0.        , 0.        , 0.007316  , 0.00893681, 0.00100384,\n",
              "       0.        , 0.        , 0.        , 0.        , 0.        ,\n",
              "       0.69559352, 0.07728413, 0.        , 0.0110859 , 0.01302656,\n",
              "       0.        , 0.0082799 , 0.13893825, 0.        , 0.        ])"
            ]
          },
          "metadata": {},
          "execution_count": 55
        }
      ]
    },
    {
      "cell_type": "markdown",
      "source": [
        ""
      ],
      "metadata": {
        "id": "7nzack5exB3r"
      }
    }
  ]
}